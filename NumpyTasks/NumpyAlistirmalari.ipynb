{
 "cells": [
  {
   "cell_type": "markdown",
   "id": "c72deabe-a035-45c4-8014-0cb110ee49a0",
   "metadata": {},
   "source": [
    "# Numpy Alıştırmaları"
   ]
  },
  {
   "cell_type": "markdown",
   "id": "ff2ef8f7-e2a2-40de-b4dd-9eb8c4f861fe",
   "metadata": {
    "tags": []
   },
   "source": [
    "### 1'den 10'a kadar bir Numpy dizisi oluşturun"
   ]
  },
  {
   "cell_type": "code",
   "execution_count": 2,
   "id": "b434d57c-d8e5-4f19-ad45-a8c0ed5c2ac1",
   "metadata": {},
   "outputs": [],
   "source": [
    "import numpy as np"
   ]
  },
  {
   "cell_type": "code",
   "execution_count": 3,
   "id": "a739cf69-4006-4cd1-926b-0cb52de04577",
   "metadata": {},
   "outputs": [
    {
     "data": {
      "text/plain": [
       "array([1, 2, 3, 4, 5, 6, 7, 8, 9])"
      ]
     },
     "execution_count": 3,
     "metadata": {},
     "output_type": "execute_result"
    }
   ],
   "source": [
    "np.array(range(1,10))"
   ]
  },
  {
   "cell_type": "markdown",
   "id": "8e1e55b9-6184-4787-917c-84b2c53d4dfa",
   "metadata": {},
   "source": [
    "### 2 boyutlu bir Numpy dizisi oluşturun"
   ]
  },
  {
   "cell_type": "code",
   "execution_count": 5,
   "id": "4cf8e041-e647-4f5a-a292-16e025425e06",
   "metadata": {},
   "outputs": [
    {
     "data": {
      "text/plain": [
       "array([[2, 2],\n",
       "       [9, 3]])"
      ]
     },
     "execution_count": 5,
     "metadata": {},
     "output_type": "execute_result"
    }
   ],
   "source": [
    "x = np.random.randint(1,10,(2,2))\n",
    "x"
   ]
  },
  {
   "cell_type": "code",
   "execution_count": 6,
   "id": "7d6b6920-f3d3-45ba-8102-a3a2c3696e27",
   "metadata": {},
   "outputs": [
    {
     "data": {
      "text/plain": [
       "2"
      ]
     },
     "execution_count": 6,
     "metadata": {},
     "output_type": "execute_result"
    }
   ],
   "source": [
    "x.ndim"
   ]
  },
  {
   "cell_type": "markdown",
   "id": "47c8f0dc-3801-47c3-a184-2023128317a1",
   "metadata": {
    "tags": []
   },
   "source": [
    "## Boyutları 2x3 olan bir Numpy dizisinin satır sayısını bulun"
   ]
  },
  {
   "cell_type": "code",
   "execution_count": 10,
   "id": "367a326f-dc89-45f0-a6e5-e4729b268ff4",
   "metadata": {},
   "outputs": [
    {
     "data": {
      "text/plain": [
       "array([[3, 6, 5],\n",
       "       [3, 1, 9]])"
      ]
     },
     "execution_count": 10,
     "metadata": {},
     "output_type": "execute_result"
    }
   ],
   "source": [
    "x = np.random.randint(1,10,(2,3))\n",
    "x"
   ]
  },
  {
   "cell_type": "code",
   "execution_count": 11,
   "id": "7310ce90-155e-4e5c-9608-ac43b38f699c",
   "metadata": {},
   "outputs": [
    {
     "data": {
      "text/plain": [
       "2"
      ]
     },
     "execution_count": 11,
     "metadata": {},
     "output_type": "execute_result"
    }
   ],
   "source": [
    "x.shape[0]"
   ]
  },
  {
   "cell_type": "markdown",
   "id": "8237b693-1b65-4e63-99d4-e04754e3bf8a",
   "metadata": {},
   "source": [
    "## Boyutları 2x3 olan bir Numpy dizisinin sütun sayısını bulun"
   ]
  },
  {
   "cell_type": "code",
   "execution_count": 12,
   "id": "f71160dd-f0e3-4864-adb8-c466e7870df0",
   "metadata": {},
   "outputs": [
    {
     "data": {
      "text/plain": [
       "3"
      ]
     },
     "execution_count": 12,
     "metadata": {},
     "output_type": "execute_result"
    }
   ],
   "source": [
    "x.shape[1]"
   ]
  },
  {
   "cell_type": "markdown",
   "id": "5197fca4-77ca-470c-b4ff-540dbd1eb949",
   "metadata": {},
   "source": [
    "## Bir Numpy dizisindeki en büyük değeri bulun"
   ]
  },
  {
   "cell_type": "code",
   "execution_count": 16,
   "id": "f1bfb792-0fd2-4383-bfd2-54dd45cb7d14",
   "metadata": {},
   "outputs": [
    {
     "data": {
      "text/plain": [
       "8"
      ]
     },
     "execution_count": 16,
     "metadata": {},
     "output_type": "execute_result"
    }
   ],
   "source": [
    "x.max()"
   ]
  },
  {
   "cell_type": "markdown",
   "id": "48173c41-5a0a-4c90-894f-8ef3db2dfcbc",
   "metadata": {},
   "source": [
    "## Bir Numpy dizisindeki en küçük değeri bulun"
   ]
  },
  {
   "cell_type": "code",
   "execution_count": 17,
   "id": "62c191c1-540e-4897-8e08-61c8e9717ec0",
   "metadata": {},
   "outputs": [
    {
     "data": {
      "text/plain": [
       "2"
      ]
     },
     "execution_count": 17,
     "metadata": {},
     "output_type": "execute_result"
    }
   ],
   "source": [
    "x.min()"
   ]
  },
  {
   "cell_type": "markdown",
   "id": "604c3f3a-d24a-4318-b065-9b722b473bc5",
   "metadata": {},
   "source": [
    "## Bir Numpy dizisindeki ortalamayı bulun"
   ]
  },
  {
   "cell_type": "code",
   "execution_count": 19,
   "id": "5bc96c3a-5648-4a53-9cf2-b02e946a36c4",
   "metadata": {},
   "outputs": [
    {
     "data": {
      "text/plain": [
       "5.333333333333333"
      ]
     },
     "execution_count": 19,
     "metadata": {},
     "output_type": "execute_result"
    }
   ],
   "source": [
    "x.mean()"
   ]
  },
  {
   "cell_type": "markdown",
   "id": "ed9aca8a-aab7-4195-9cb7-7aa781eeba2c",
   "metadata": {},
   "source": [
    "## Bir Numpy dizisindeki standart sapmayı bulun"
   ]
  },
  {
   "cell_type": "code",
   "execution_count": 20,
   "id": "7f1e5659-5050-4bcb-8b9b-695b703fe90e",
   "metadata": {},
   "outputs": [
    {
     "data": {
      "text/plain": [
       "2.2110831935702664"
      ]
     },
     "execution_count": 20,
     "metadata": {},
     "output_type": "execute_result"
    }
   ],
   "source": [
    "x.std()"
   ]
  },
  {
   "cell_type": "markdown",
   "id": "5634c348-ddfc-492c-ba54-8dc3db0ff5f9",
   "metadata": {},
   "source": [
    "## Bir Numpy dizisinde tekrar eden elemanları bulun"
   ]
  },
  {
   "cell_type": "code",
   "execution_count": 15,
   "id": "efab751f-4cd3-486d-8893-dcb9eaf3c2a7",
   "metadata": {},
   "outputs": [],
   "source": [
    "numpy_array = np.array([1,1,1,2,2,3,3,3,4,5,6,7,7,3,6,7,8,9,10,12,13])\n",
    "\n",
    "repetative_values = []\n",
    "\n",
    "for i in numpy_array:\n",
    "    for r in numpy_array:\n",
    "        if numpy_array[i] == numpy_array[r]:\n",
    "            if numpy_array[r] in repetative_values:\n",
    "                continue\n",
    "            else:\n",
    "                repetative_values.append(numpy_array[r])\n",
    "\n",
    "repetative_values = np.array(repetative_values)"
   ]
  },
  {
   "cell_type": "code",
   "execution_count": 16,
   "id": "b94def4e-f278-424f-9812-f3fd3891b811",
   "metadata": {},
   "outputs": [
    {
     "data": {
      "text/plain": [
       "array([1, 2, 3, 4, 5, 6, 7])"
      ]
     },
     "execution_count": 16,
     "metadata": {},
     "output_type": "execute_result"
    }
   ],
   "source": [
    "repetative_values"
   ]
  },
  {
   "cell_type": "markdown",
   "id": "8f66dfd2-9d71-42cb-8ce8-32a5f46d73d5",
   "metadata": {},
   "source": [
    "## 2 boyutlu bir Numpy dizisindeki tüm elemanların toplamını bulun"
   ]
  },
  {
   "cell_type": "code",
   "execution_count": 26,
   "id": "e811b23e-befa-4dd6-8e92-df8b3cb277e2",
   "metadata": {},
   "outputs": [
    {
     "data": {
      "text/plain": [
       "2"
      ]
     },
     "execution_count": 26,
     "metadata": {},
     "output_type": "execute_result"
    }
   ],
   "source": [
    "a = np.random.randint(1,20,(3,3))\n",
    "a.ndim"
   ]
  },
  {
   "cell_type": "code",
   "execution_count": 28,
   "id": "642ee313-1e3a-4fd3-87d9-8c366d76416e",
   "metadata": {},
   "outputs": [
    {
     "data": {
      "text/plain": [
       "85"
      ]
     },
     "execution_count": 28,
     "metadata": {},
     "output_type": "execute_result"
    }
   ],
   "source": [
    "a.sum()"
   ]
  },
  {
   "cell_type": "markdown",
   "id": "c59fd2ac-6e38-4516-94a0-abb967bdb50a",
   "metadata": {},
   "source": [
    "## 2 boyutlu bir Numpy dizisindeki her bir sütundaki elemanların toplamını bulun"
   ]
  },
  {
   "cell_type": "code",
   "execution_count": 46,
   "id": "0d02eae0-ae28-4f8a-ba80-15e384d3e778",
   "metadata": {},
   "outputs": [
    {
     "data": {
      "text/plain": [
       "array([[ 2, 11, 19],\n",
       "       [ 7,  9, 15],\n",
       "       [ 2,  5, 15]])"
      ]
     },
     "execution_count": 46,
     "metadata": {},
     "output_type": "execute_result"
    }
   ],
   "source": [
    "a"
   ]
  },
  {
   "cell_type": "code",
   "execution_count": 47,
   "id": "3384bcf6-ca00-4dc2-961e-2657a54eb24c",
   "metadata": {},
   "outputs": [
    {
     "data": {
      "text/plain": [
       "array([11, 25, 49])"
      ]
     },
     "execution_count": 47,
     "metadata": {},
     "output_type": "execute_result"
    }
   ],
   "source": [
    "a.sum(axis=0)"
   ]
  },
  {
   "cell_type": "markdown",
   "id": "dde03495-993d-4877-8074-ac22149d90fd",
   "metadata": {},
   "source": [
    "## Numpy dizisi boyutlarını değiştirin"
   ]
  },
  {
   "cell_type": "code",
   "execution_count": 31,
   "id": "9465bb48-5f0e-4da5-9e89-17fd192af25d",
   "metadata": {},
   "outputs": [
    {
     "data": {
      "text/plain": [
       "array([[ 2, 19, 11,  9,  7, 15, 15,  5,  2]])"
      ]
     },
     "execution_count": 31,
     "metadata": {},
     "output_type": "execute_result"
    }
   ],
   "source": [
    "a.reshape(1,9)"
   ]
  },
  {
   "cell_type": "code",
   "execution_count": 33,
   "id": "1890a1cf-194b-4c8c-9d81-38f6cc96d6e3",
   "metadata": {},
   "outputs": [
    {
     "data": {
      "text/plain": [
       "array([[ 2],\n",
       "       [19],\n",
       "       [11],\n",
       "       [ 9],\n",
       "       [ 7],\n",
       "       [15],\n",
       "       [15],\n",
       "       [ 5],\n",
       "       [ 2]])"
      ]
     },
     "execution_count": 33,
     "metadata": {},
     "output_type": "execute_result"
    }
   ],
   "source": [
    "a.reshape(9,1)"
   ]
  },
  {
   "cell_type": "markdown",
   "id": "d2b834a7-18d4-40db-b55a-4d15a5d78a15",
   "metadata": {},
   "source": [
    "## Numpy dizisindeki elemanların transpozunu alın"
   ]
  },
  {
   "cell_type": "code",
   "execution_count": 34,
   "id": "d367127b-a78f-4e05-9047-f74608edc10a",
   "metadata": {},
   "outputs": [
    {
     "data": {
      "text/plain": [
       "array([[ 2,  9, 15],\n",
       "       [19,  7,  5],\n",
       "       [11, 15,  2]])"
      ]
     },
     "execution_count": 34,
     "metadata": {},
     "output_type": "execute_result"
    }
   ],
   "source": [
    "a.transpose()"
   ]
  },
  {
   "cell_type": "markdown",
   "id": "7fc2db1e-7ed0-4d20-832e-33e8582bb895",
   "metadata": {},
   "source": [
    "## Numpy dizisindeki elemanların sıralamasını yapın"
   ]
  },
  {
   "cell_type": "code",
   "execution_count": 42,
   "id": "d18ae762-3d11-458a-ae97-b7590c74ffd2",
   "metadata": {},
   "outputs": [
    {
     "data": {
      "text/plain": [
       "array([[ 2, 11, 19],\n",
       "       [ 7,  9, 15],\n",
       "       [ 2,  5, 15]])"
      ]
     },
     "execution_count": 42,
     "metadata": {},
     "output_type": "execute_result"
    }
   ],
   "source": [
    "a.sort()\n",
    "a"
   ]
  },
  {
   "cell_type": "markdown",
   "id": "27cf23ea-9290-4b0b-a14f-ef4fb8c1f2f2",
   "metadata": {},
   "source": [
    "## 2 boyutlu bir Numpy dizisindeki her bir sütundaki elemanların ortalamasını bulun"
   ]
  },
  {
   "cell_type": "code",
   "execution_count": 49,
   "id": "3a73a7f7-0629-4f8f-b872-2ba43afb4f87",
   "metadata": {},
   "outputs": [
    {
     "data": {
      "text/plain": [
       "array([ 3.66666667,  8.33333333, 16.33333333])"
      ]
     },
     "execution_count": 49,
     "metadata": {},
     "output_type": "execute_result"
    }
   ],
   "source": [
    "a.mean(axis=0)"
   ]
  },
  {
   "cell_type": "markdown",
   "id": "ca3133d9-2d5d-4315-ae99-79dcfec8dd18",
   "metadata": {},
   "source": [
    "## 2 boyutlu bir Numpy dizisindeki her bir satırdaki elemanların standart sapmasını bulun"
   ]
  },
  {
   "cell_type": "code",
   "execution_count": 48,
   "id": "37624b07-6743-4fb2-885b-6d52be9422ed",
   "metadata": {},
   "outputs": [
    {
     "data": {
      "text/plain": [
       "array([6.94422222, 3.39934634, 5.55777733])"
      ]
     },
     "execution_count": 48,
     "metadata": {},
     "output_type": "execute_result"
    }
   ],
   "source": [
    "a.std(axis=1)"
   ]
  },
  {
   "cell_type": "markdown",
   "id": "ee3e4770-f547-41dd-92e3-08739f79f9be",
   "metadata": {},
   "source": [
    "## 2 boyutlu bir Numpy dizisinde belirli bir elemanın index değerini bulun"
   ]
  },
  {
   "cell_type": "code",
   "execution_count": 74,
   "id": "046a62cb-b59d-4327-9c0f-36bc10aa5137",
   "metadata": {},
   "outputs": [
    {
     "data": {
      "text/plain": [
       "(array([0, 2], dtype=int64), array([0, 0], dtype=int64))"
      ]
     },
     "execution_count": 74,
     "metadata": {},
     "output_type": "execute_result"
    }
   ],
   "source": [
    "np.where(a == 2)"
   ]
  },
  {
   "cell_type": "markdown",
   "id": "8f939805-7f10-4a0c-9878-b5409c44d0a4",
   "metadata": {},
   "source": [
    "## 2 boyutlu bir Numpy dizisinde belirli bir sütunu seçin"
   ]
  },
  {
   "cell_type": "code",
   "execution_count": 67,
   "id": "45bcd6fc-3c2f-4938-a978-aa7ced6b45a2",
   "metadata": {},
   "outputs": [
    {
     "data": {
      "text/plain": [
       "array([[ 2, 11, 19],\n",
       "       [ 7,  9, 15],\n",
       "       [ 2,  5, 15]])"
      ]
     },
     "execution_count": 67,
     "metadata": {},
     "output_type": "execute_result"
    }
   ],
   "source": [
    "a"
   ]
  },
  {
   "cell_type": "code",
   "execution_count": 69,
   "id": "bb2ba889-ce05-4fef-917c-9083ac59374a",
   "metadata": {},
   "outputs": [
    {
     "data": {
      "text/plain": [
       "array([[11],\n",
       "       [ 9],\n",
       "       [ 5]])"
      ]
     },
     "execution_count": 69,
     "metadata": {},
     "output_type": "execute_result"
    }
   ],
   "source": [
    "a[:,1:2]"
   ]
  },
  {
   "cell_type": "markdown",
   "id": "83d50dbf-be59-4e96-960d-43c0c4475c0f",
   "metadata": {},
   "source": [
    "## 2 boyutlu bir Numpy dizisinde belirli bir satırı seçin"
   ]
  },
  {
   "cell_type": "code",
   "execution_count": 70,
   "id": "42c1d786-f782-465c-9511-11cd5ea02877",
   "metadata": {},
   "outputs": [
    {
     "data": {
      "text/plain": [
       "array([[ 2, 11, 19]])"
      ]
     },
     "execution_count": 70,
     "metadata": {},
     "output_type": "execute_result"
    }
   ],
   "source": [
    "a[:1,:]"
   ]
  },
  {
   "cell_type": "code",
   "execution_count": null,
   "id": "2278f0da-33d0-4669-a8af-5775002a72ac",
   "metadata": {},
   "outputs": [],
   "source": []
  }
 ],
 "metadata": {
  "kernelspec": {
   "display_name": "Python 3 (ipykernel)",
   "language": "python",
   "name": "python3"
  },
  "language_info": {
   "codemirror_mode": {
    "name": "ipython",
    "version": 3
   },
   "file_extension": ".py",
   "mimetype": "text/x-python",
   "name": "python",
   "nbconvert_exporter": "python",
   "pygments_lexer": "ipython3",
   "version": "3.9.13"
  }
 },
 "nbformat": 4,
 "nbformat_minor": 5
}
